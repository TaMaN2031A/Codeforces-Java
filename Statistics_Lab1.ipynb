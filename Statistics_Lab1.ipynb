{
  "nbformat": 4,
  "nbformat_minor": 0,
  "metadata": {
    "colab": {
      "name": "Statistics_Lab1.ipynb",
      "provenance": [],
      "collapsed_sections": [],
      "include_colab_link": true
    },
    "kernelspec": {
      "display_name": "Python 3",
      "language": "python",
      "name": "python3"
    },
    "language_info": {
      "codemirror_mode": {
        "name": "ipython",
        "version": 3
      },
      "file_extension": ".py",
      "mimetype": "text/x-python",
      "name": "python",
      "nbconvert_exporter": "python",
      "pygments_lexer": "ipython3",
      "version": "3.6.3"
    }
  },
  "cells": [
    {
      "cell_type": "markdown",
      "metadata": {
        "id": "view-in-github",
        "colab_type": "text"
      },
      "source": [
        "<a href=\"https://colab.research.google.com/github/TaMaN2031A/Codeforces-Java/blob/main/Statistics_Lab1.ipynb\" target=\"_parent\"><img src=\"https://colab.research.google.com/assets/colab-badge.svg\" alt=\"Open In Colab\"/></a>"
      ]
    },
    {
      "cell_type": "markdown",
      "metadata": {
        "id": "7EinjAkHU3P1"
      },
      "source": [
        "# Statistics Lab1"
      ]
    },
    {
      "cell_type": "markdown",
      "metadata": {
        "id": "vOuurNeVU2Nv"
      },
      "source": [
        "## Imports"
      ]
    },
    {
      "cell_type": "code",
      "metadata": {
        "id": "ku8v1gpvVIFT"
      },
      "source": [
        "import matplotlib.pyplot as plt #Python 2D plotting library\n",
        "from scipy.stats import norm #Python package for distributions\n",
        "import numpy as np #Python package for powerful N-dimensional array operations\n",
        "from sklearn.preprocessing import StandardScaler\n",
        "\n",
        "plt.style.use('seaborn') # pretty matplotlib plots\n",
        "plt.rcParams['figure.figsize'] = (12, 8)"
      ],
      "execution_count": null,
      "outputs": []
    },
    {
      "cell_type": "markdown",
      "metadata": {
        "id": "L0uivaMm6vgV"
      },
      "source": [
        "## Distribution Operations"
      ]
    },
    {
      "cell_type": "code",
      "metadata": {
        "id": "g16cTGoxGtvK"
      },
      "source": [
        "def generate_data(x_min = -5.0, x_max = 5.0, num = 1000):\n",
        "    \"\"\"\n",
        "    generates evenly spaced numbers over a specified interval\n",
        "\n",
        "    Parameters:\n",
        "    x_min (float): the starting point of the sequence\n",
        "    x_max (float): the end point of the sequence\n",
        "    num (int): the number of points to be generated\n",
        "\n",
        "    Returns:\n",
        "    x (array-like): equally spaced numbers\n",
        "\n",
        "    \"\"\"\n",
        "    x = np.linspace(-5.0, 5.0, num=1000) ;\n",
        "    return x;"
      ],
      "execution_count": null,
      "outputs": []
    },
    {
      "cell_type": "code",
      "source": [
        ""
      ],
      "metadata": {
        "id": "saGgSkb1UEFh"
      },
      "execution_count": null,
      "outputs": []
    },
    {
      "cell_type": "code",
      "metadata": {
        "id": "KxhJt44ns1Tq"
      },
      "source": [
        "def compute_mean_std(x):\n",
        "    \"\"\"\n",
        "    Computes the approximate mean and standard deviation of an array of normally distributed numbers\n",
        "\n",
        "    Parameters:\n",
        "    x (array-like): the array of numbers\n",
        "\n",
        "    Returns:\n",
        "    mean (float): the mean of the array\n",
        "    std (float): the standard deviation of the array\n",
        "    \"\"\"\n",
        "\n",
        "    mean = np.mean(x)\n",
        "    std = np.std(x);\n",
        "    return mean, std;"
      ],
      "execution_count": null,
      "outputs": []
    },
    {
      "cell_type": "code",
      "metadata": {
        "id": "smXxFLdeuNGJ"
      },
      "source": [
        "def get_normal_pdf(x, mean=0, std=1.0):\n",
        "    y = (np.pi*std) * np.exp(-0.5*((x-mean)/std)**2);\n",
        "    return y;"
      ],
      "execution_count": null,
      "outputs": []
    },
    {
      "cell_type": "code",
      "metadata": {
        "id": "IKpQvP0F8wYq"
      },
      "source": [
        "def standardize(y):\n",
        "    mean, std = compute_mean_std(y);\n",
        "    z = (y-y.mean())/y.std()\n",
        "    return z;"
      ],
      "execution_count": 60,
      "outputs": []
    },
    {
      "cell_type": "markdown",
      "metadata": {
        "id": "dRvtL-ATVKrk"
      },
      "source": [
        "## Normal Distribution Plot"
      ]
    },
    {
      "cell_type": "markdown",
      "metadata": {
        "id": "TtGDb95ZJYH_"
      },
      "source": [
        "It's required to implement a function that plots normal distribution for a given array of numbers distributed over a given range.\n",
        "\n",
        "Please, follow the following signature:"
      ]
    },
    {
      "cell_type": "code",
      "metadata": {
        "id": "poJi4r_UVOpO"
      },
      "source": [
        "def plot_normal(x, y = None,  xlim_min = -1.0, xlim_max = 1.0, ylim_min = 0, ylim_max = 1.0):\n",
        "\n",
        "    \"\"\"\n",
        "    Plots the pdf of the normal (Gaussian) distribution\n",
        "\n",
        "    Parameters:\n",
        "    x (array-like): the data points to be plotted\n",
        "    xlim_min (float): the lower bound of x axis\n",
        "    xlim_max (float): the upper bound of x axis\n",
        "    ylim_min (float): the lower bound of y axis\n",
        "    ylim_max (float): the upper bound of y axis\n",
        "    \"\"\"\n",
        "    if y is None:\n",
        "        y = get_normal_pdf(x);\n",
        "    \n",
        "    #Use plt library to show your plot. You are encouraged to play with plt functions to\n",
        "    #get a colorful and neat plot\n",
        "    plt.xlabel('X')\n",
        "    plt.plot(x,y);\n",
        "    plt.show();\n"
      ],
      "execution_count": null,
      "outputs": []
    },
    {
      "cell_type": "markdown",
      "metadata": {
        "id": "rXV5jNUf-0Vk"
      },
      "source": [
        "## Driver Code"
      ]
    },
    {
      "cell_type": "code",
      "metadata": {
        "id": "n1k5iy6CWTqp",
        "colab": {
          "base_uri": "https://localhost:8080/",
          "height": 1000
        },
        "outputId": "e11ef907-2f06-4342-b5a6-1e3400293b9c"
      },
      "source": [
        "x_min = 0.5\n",
        "x_max = 0.75\n",
        "\n",
        "ylim_min = 0.0\n",
        "ylim_max = 1.0\n",
        "\n",
        "x = generate_data(x_min, x_max, 100000)\n",
        "\n",
        "mean, std = compute_mean_std(x)\n",
        "\n",
        "y = get_normal_pdf(x, mean, std)\n",
        "\n",
        "plot_normal(x, y, x_min, x_max, ylim_min, ylim_max)\n",
        "\n",
        "z = standardize(x)\n",
        "\n",
        "x_min = z[0]\n",
        "x_max = z[len(z) - 1]\n",
        "\n",
        "new_mean, new_std = compute_mean_std(z)\n",
        "\n",
        "new_y = get_normal_pdf(z, new_mean, new_std)\n",
        "\n",
        "plot_normal(z, new_y)#, x_min, x_max, ylim_min, ylim_max)"
      ],
      "execution_count": 61,
      "outputs": [
        {
          "output_type": "stream",
          "name": "stdout",
          "text": [
            "[-5.         -4.98998999 -4.97997998 -4.96996997 -4.95995996 -4.94994995\n",
            " -4.93993994 -4.92992993 -4.91991992 -4.90990991 -4.8998999  -4.88988989\n",
            " -4.87987988 -4.86986987 -4.85985986 -4.84984985 -4.83983984 -4.82982983\n",
            " -4.81981982 -4.80980981 -4.7997998  -4.78978979 -4.77977978 -4.76976977\n",
            " -4.75975976 -4.74974975 -4.73973974 -4.72972973 -4.71971972 -4.70970971\n",
            " -4.6996997  -4.68968969 -4.67967968 -4.66966967 -4.65965966 -4.64964965\n",
            " -4.63963964 -4.62962963 -4.61961962 -4.60960961 -4.5995996  -4.58958959\n",
            " -4.57957958 -4.56956957 -4.55955956 -4.54954955 -4.53953954 -4.52952953\n",
            " -4.51951952 -4.50950951 -4.4994995  -4.48948949 -4.47947948 -4.46946947\n",
            " -4.45945946 -4.44944945 -4.43943944 -4.42942943 -4.41941942 -4.40940941\n",
            " -4.3993994  -4.38938939 -4.37937938 -4.36936937 -4.35935936 -4.34934935\n",
            " -4.33933934 -4.32932933 -4.31931932 -4.30930931 -4.2992993  -4.28928929\n",
            " -4.27927928 -4.26926927 -4.25925926 -4.24924925 -4.23923924 -4.22922923\n",
            " -4.21921922 -4.20920921 -4.1991992  -4.18918919 -4.17917918 -4.16916917\n",
            " -4.15915916 -4.14914915 -4.13913914 -4.12912913 -4.11911912 -4.10910911\n",
            " -4.0990991  -4.08908909 -4.07907908 -4.06906907 -4.05905906 -4.04904905\n",
            " -4.03903904 -4.02902903 -4.01901902 -4.00900901 -3.998999   -3.98898899\n",
            " -3.97897898 -3.96896897 -3.95895896 -3.94894895 -3.93893894 -3.92892893\n",
            " -3.91891892 -3.90890891 -3.8988989  -3.88888889 -3.87887888 -3.86886887\n",
            " -3.85885886 -3.84884885 -3.83883884 -3.82882883 -3.81881882 -3.80880881\n",
            " -3.7987988  -3.78878879 -3.77877878 -3.76876877 -3.75875876 -3.74874875\n",
            " -3.73873874 -3.72872873 -3.71871872 -3.70870871 -3.6986987  -3.68868869\n",
            " -3.67867868 -3.66866867 -3.65865866 -3.64864865 -3.63863864 -3.62862863\n",
            " -3.61861862 -3.60860861 -3.5985986  -3.58858859 -3.57857858 -3.56856857\n",
            " -3.55855856 -3.54854855 -3.53853854 -3.52852853 -3.51851852 -3.50850851\n",
            " -3.4984985  -3.48848849 -3.47847848 -3.46846847 -3.45845846 -3.44844845\n",
            " -3.43843844 -3.42842843 -3.41841842 -3.40840841 -3.3983984  -3.38838839\n",
            " -3.37837838 -3.36836837 -3.35835836 -3.34834835 -3.33833834 -3.32832833\n",
            " -3.31831832 -3.30830831 -3.2982983  -3.28828829 -3.27827828 -3.26826827\n",
            " -3.25825826 -3.24824825 -3.23823824 -3.22822823 -3.21821822 -3.20820821\n",
            " -3.1981982  -3.18818819 -3.17817818 -3.16816817 -3.15815816 -3.14814815\n",
            " -3.13813814 -3.12812813 -3.11811812 -3.10810811 -3.0980981  -3.08808809\n",
            " -3.07807808 -3.06806807 -3.05805806 -3.04804805 -3.03803804 -3.02802803\n",
            " -3.01801802 -3.00800801 -2.997998   -2.98798799 -2.97797798 -2.96796797\n",
            " -2.95795796 -2.94794795 -2.93793794 -2.92792793 -2.91791792 -2.90790791\n",
            " -2.8978979  -2.88788789 -2.87787788 -2.86786787 -2.85785786 -2.84784785\n",
            " -2.83783784 -2.82782783 -2.81781782 -2.80780781 -2.7977978  -2.78778779\n",
            " -2.77777778 -2.76776777 -2.75775776 -2.74774775 -2.73773774 -2.72772773\n",
            " -2.71771772 -2.70770771 -2.6976977  -2.68768769 -2.67767768 -2.66766767\n",
            " -2.65765766 -2.64764765 -2.63763764 -2.62762763 -2.61761762 -2.60760761\n",
            " -2.5975976  -2.58758759 -2.57757758 -2.56756757 -2.55755756 -2.54754755\n",
            " -2.53753754 -2.52752753 -2.51751752 -2.50750751 -2.4974975  -2.48748749\n",
            " -2.47747748 -2.46746747 -2.45745746 -2.44744745 -2.43743744 -2.42742743\n",
            " -2.41741742 -2.40740741 -2.3973974  -2.38738739 -2.37737738 -2.36736737\n",
            " -2.35735736 -2.34734735 -2.33733734 -2.32732733 -2.31731732 -2.30730731\n",
            " -2.2972973  -2.28728729 -2.27727728 -2.26726727 -2.25725726 -2.24724725\n",
            " -2.23723724 -2.22722723 -2.21721722 -2.20720721 -2.1971972  -2.18718719\n",
            " -2.17717718 -2.16716717 -2.15715716 -2.14714715 -2.13713714 -2.12712713\n",
            " -2.11711712 -2.10710711 -2.0970971  -2.08708709 -2.07707708 -2.06706707\n",
            " -2.05705706 -2.04704705 -2.03703704 -2.02702703 -2.01701702 -2.00700701\n",
            " -1.996997   -1.98698699 -1.97697698 -1.96696697 -1.95695696 -1.94694695\n",
            " -1.93693694 -1.92692693 -1.91691692 -1.90690691 -1.8968969  -1.88688689\n",
            " -1.87687688 -1.86686687 -1.85685686 -1.84684685 -1.83683684 -1.82682683\n",
            " -1.81681682 -1.80680681 -1.7967968  -1.78678679 -1.77677678 -1.76676677\n",
            " -1.75675676 -1.74674675 -1.73673674 -1.72672673 -1.71671672 -1.70670671\n",
            " -1.6966967  -1.68668669 -1.67667668 -1.66666667 -1.65665666 -1.64664665\n",
            " -1.63663664 -1.62662663 -1.61661662 -1.60660661 -1.5965966  -1.58658659\n",
            " -1.57657658 -1.56656657 -1.55655656 -1.54654655 -1.53653654 -1.52652653\n",
            " -1.51651652 -1.50650651 -1.4964965  -1.48648649 -1.47647648 -1.46646647\n",
            " -1.45645646 -1.44644645 -1.43643644 -1.42642643 -1.41641642 -1.40640641\n",
            " -1.3963964  -1.38638639 -1.37637638 -1.36636637 -1.35635636 -1.34634635\n",
            " -1.33633634 -1.32632633 -1.31631632 -1.30630631 -1.2962963  -1.28628629\n",
            " -1.27627628 -1.26626627 -1.25625626 -1.24624625 -1.23623624 -1.22622623\n",
            " -1.21621622 -1.20620621 -1.1961962  -1.18618619 -1.17617618 -1.16616617\n",
            " -1.15615616 -1.14614615 -1.13613614 -1.12612613 -1.11611612 -1.10610611\n",
            " -1.0960961  -1.08608609 -1.07607608 -1.06606607 -1.05605606 -1.04604605\n",
            " -1.03603604 -1.02602603 -1.01601602 -1.00600601 -0.995996   -0.98598599\n",
            " -0.97597598 -0.96596597 -0.95595596 -0.94594595 -0.93593594 -0.92592593\n",
            " -0.91591592 -0.90590591 -0.8958959  -0.88588589 -0.87587588 -0.86586587\n",
            " -0.85585586 -0.84584585 -0.83583584 -0.82582583 -0.81581582 -0.80580581\n",
            " -0.7957958  -0.78578579 -0.77577578 -0.76576577 -0.75575576 -0.74574575\n",
            " -0.73573574 -0.72572573 -0.71571572 -0.70570571 -0.6956957  -0.68568569\n",
            " -0.67567568 -0.66566567 -0.65565566 -0.64564565 -0.63563564 -0.62562563\n",
            " -0.61561562 -0.60560561 -0.5955956  -0.58558559 -0.57557558 -0.56556557\n",
            " -0.55555556 -0.54554555 -0.53553554 -0.52552553 -0.51551552 -0.50550551\n",
            " -0.4954955  -0.48548549 -0.47547548 -0.46546547 -0.45545546 -0.44544545\n",
            " -0.43543544 -0.42542543 -0.41541542 -0.40540541 -0.3953954  -0.38538539\n",
            " -0.37537538 -0.36536537 -0.35535536 -0.34534535 -0.33533534 -0.32532533\n",
            " -0.31531532 -0.30530531 -0.2952953  -0.28528529 -0.27527528 -0.26526527\n",
            " -0.25525526 -0.24524525 -0.23523524 -0.22522523 -0.21521522 -0.20520521\n",
            " -0.1951952  -0.18518519 -0.17517518 -0.16516517 -0.15515516 -0.14514515\n",
            " -0.13513514 -0.12512513 -0.11511512 -0.10510511 -0.0950951  -0.08508509\n",
            " -0.07507508 -0.06506507 -0.05505506 -0.04504505 -0.03503504 -0.02502503\n",
            " -0.01501502 -0.00500501  0.00500501  0.01501502  0.02502503  0.03503504\n",
            "  0.04504505  0.05505506  0.06506507  0.07507508  0.08508509  0.0950951\n",
            "  0.10510511  0.11511512  0.12512513  0.13513514  0.14514515  0.15515516\n",
            "  0.16516517  0.17517518  0.18518519  0.1951952   0.20520521  0.21521522\n",
            "  0.22522523  0.23523524  0.24524525  0.25525526  0.26526527  0.27527528\n",
            "  0.28528529  0.2952953   0.30530531  0.31531532  0.32532533  0.33533534\n",
            "  0.34534535  0.35535536  0.36536537  0.37537538  0.38538539  0.3953954\n",
            "  0.40540541  0.41541542  0.42542543  0.43543544  0.44544545  0.45545546\n",
            "  0.46546547  0.47547548  0.48548549  0.4954955   0.50550551  0.51551552\n",
            "  0.52552553  0.53553554  0.54554555  0.55555556  0.56556557  0.57557558\n",
            "  0.58558559  0.5955956   0.60560561  0.61561562  0.62562563  0.63563564\n",
            "  0.64564565  0.65565566  0.66566567  0.67567568  0.68568569  0.6956957\n",
            "  0.70570571  0.71571572  0.72572573  0.73573574  0.74574575  0.75575576\n",
            "  0.76576577  0.77577578  0.78578579  0.7957958   0.80580581  0.81581582\n",
            "  0.82582583  0.83583584  0.84584585  0.85585586  0.86586587  0.87587588\n",
            "  0.88588589  0.8958959   0.90590591  0.91591592  0.92592593  0.93593594\n",
            "  0.94594595  0.95595596  0.96596597  0.97597598  0.98598599  0.995996\n",
            "  1.00600601  1.01601602  1.02602603  1.03603604  1.04604605  1.05605606\n",
            "  1.06606607  1.07607608  1.08608609  1.0960961   1.10610611  1.11611612\n",
            "  1.12612613  1.13613614  1.14614615  1.15615616  1.16616617  1.17617618\n",
            "  1.18618619  1.1961962   1.20620621  1.21621622  1.22622623  1.23623624\n",
            "  1.24624625  1.25625626  1.26626627  1.27627628  1.28628629  1.2962963\n",
            "  1.30630631  1.31631632  1.32632633  1.33633634  1.34634635  1.35635636\n",
            "  1.36636637  1.37637638  1.38638639  1.3963964   1.40640641  1.41641642\n",
            "  1.42642643  1.43643644  1.44644645  1.45645646  1.46646647  1.47647648\n",
            "  1.48648649  1.4964965   1.50650651  1.51651652  1.52652653  1.53653654\n",
            "  1.54654655  1.55655656  1.56656657  1.57657658  1.58658659  1.5965966\n",
            "  1.60660661  1.61661662  1.62662663  1.63663664  1.64664665  1.65665666\n",
            "  1.66666667  1.67667668  1.68668669  1.6966967   1.70670671  1.71671672\n",
            "  1.72672673  1.73673674  1.74674675  1.75675676  1.76676677  1.77677678\n",
            "  1.78678679  1.7967968   1.80680681  1.81681682  1.82682683  1.83683684\n",
            "  1.84684685  1.85685686  1.86686687  1.87687688  1.88688689  1.8968969\n",
            "  1.90690691  1.91691692  1.92692693  1.93693694  1.94694695  1.95695696\n",
            "  1.96696697  1.97697698  1.98698699  1.996997    2.00700701  2.01701702\n",
            "  2.02702703  2.03703704  2.04704705  2.05705706  2.06706707  2.07707708\n",
            "  2.08708709  2.0970971   2.10710711  2.11711712  2.12712713  2.13713714\n",
            "  2.14714715  2.15715716  2.16716717  2.17717718  2.18718719  2.1971972\n",
            "  2.20720721  2.21721722  2.22722723  2.23723724  2.24724725  2.25725726\n",
            "  2.26726727  2.27727728  2.28728729  2.2972973   2.30730731  2.31731732\n",
            "  2.32732733  2.33733734  2.34734735  2.35735736  2.36736737  2.37737738\n",
            "  2.38738739  2.3973974   2.40740741  2.41741742  2.42742743  2.43743744\n",
            "  2.44744745  2.45745746  2.46746747  2.47747748  2.48748749  2.4974975\n",
            "  2.50750751  2.51751752  2.52752753  2.53753754  2.54754755  2.55755756\n",
            "  2.56756757  2.57757758  2.58758759  2.5975976   2.60760761  2.61761762\n",
            "  2.62762763  2.63763764  2.64764765  2.65765766  2.66766767  2.67767768\n",
            "  2.68768769  2.6976977   2.70770771  2.71771772  2.72772773  2.73773774\n",
            "  2.74774775  2.75775776  2.76776777  2.77777778  2.78778779  2.7977978\n",
            "  2.80780781  2.81781782  2.82782783  2.83783784  2.84784785  2.85785786\n",
            "  2.86786787  2.87787788  2.88788789  2.8978979   2.90790791  2.91791792\n",
            "  2.92792793  2.93793794  2.94794795  2.95795796  2.96796797  2.97797798\n",
            "  2.98798799  2.997998    3.00800801  3.01801802  3.02802803  3.03803804\n",
            "  3.04804805  3.05805806  3.06806807  3.07807808  3.08808809  3.0980981\n",
            "  3.10810811  3.11811812  3.12812813  3.13813814  3.14814815  3.15815816\n",
            "  3.16816817  3.17817818  3.18818819  3.1981982   3.20820821  3.21821822\n",
            "  3.22822823  3.23823824  3.24824825  3.25825826  3.26826827  3.27827828\n",
            "  3.28828829  3.2982983   3.30830831  3.31831832  3.32832833  3.33833834\n",
            "  3.34834835  3.35835836  3.36836837  3.37837838  3.38838839  3.3983984\n",
            "  3.40840841  3.41841842  3.42842843  3.43843844  3.44844845  3.45845846\n",
            "  3.46846847  3.47847848  3.48848849  3.4984985   3.50850851  3.51851852\n",
            "  3.52852853  3.53853854  3.54854855  3.55855856  3.56856857  3.57857858\n",
            "  3.58858859  3.5985986   3.60860861  3.61861862  3.62862863  3.63863864\n",
            "  3.64864865  3.65865866  3.66866867  3.67867868  3.68868869  3.6986987\n",
            "  3.70870871  3.71871872  3.72872873  3.73873874  3.74874875  3.75875876\n",
            "  3.76876877  3.77877878  3.78878879  3.7987988   3.80880881  3.81881882\n",
            "  3.82882883  3.83883884  3.84884885  3.85885886  3.86886887  3.87887888\n",
            "  3.88888889  3.8988989   3.90890891  3.91891892  3.92892893  3.93893894\n",
            "  3.94894895  3.95895896  3.96896897  3.97897898  3.98898899  3.998999\n",
            "  4.00900901  4.01901902  4.02902903  4.03903904  4.04904905  4.05905906\n",
            "  4.06906907  4.07907908  4.08908909  4.0990991   4.10910911  4.11911912\n",
            "  4.12912913  4.13913914  4.14914915  4.15915916  4.16916917  4.17917918\n",
            "  4.18918919  4.1991992   4.20920921  4.21921922  4.22922923  4.23923924\n",
            "  4.24924925  4.25925926  4.26926927  4.27927928  4.28928929  4.2992993\n",
            "  4.30930931  4.31931932  4.32932933  4.33933934  4.34934935  4.35935936\n",
            "  4.36936937  4.37937938  4.38938939  4.3993994   4.40940941  4.41941942\n",
            "  4.42942943  4.43943944  4.44944945  4.45945946  4.46946947  4.47947948\n",
            "  4.48948949  4.4994995   4.50950951  4.51951952  4.52952953  4.53953954\n",
            "  4.54954955  4.55955956  4.56956957  4.57957958  4.58958959  4.5995996\n",
            "  4.60960961  4.61961962  4.62962963  4.63963964  4.64964965  4.65965966\n",
            "  4.66966967  4.67967968  4.68968969  4.6996997   4.70970971  4.71971972\n",
            "  4.72972973  4.73973974  4.74974975  4.75975976  4.76976977  4.77977978\n",
            "  4.78978979  4.7997998   4.80980981  4.81981982  4.82982983  4.83983984\n",
            "  4.84984985  4.85985986  4.86986987  4.87987988  4.88988989  4.8998999\n",
            "  4.90990991  4.91991992  4.92992993  4.93993994  4.94994995  4.95995996\n",
            "  4.96996997  4.97997998  4.98998999  5.        ]\n",
            "0.0\n",
            "2.8896395421142094\n"
          ]
        },
        {
          "output_type": "display_data",
          "data": {
            "text/plain": [
              "<Figure size 864x576 with 1 Axes>"
            ],
            "image/png": "[encoded data removed]"
          },
          "metadata": {}
        },
        {
          "output_type": "stream",
          "name": "stdout",
          "text": [
            "0.0\n",
            "2.8896395421142094\n",
            "-5.684341886080802e-17\n",
            "0.9999999999999999\n"
          ]
        },
        {
          "output_type": "display_data",
          "data": {
            "text/plain": [
              "<Figure size 864x576 with 1 Axes>"
            ],
            "image/png": "[encoded data removed]"
          },
          "metadata": {}
        }
      ]
    },
    {
      "cell_type": "markdown",
      "metadata": {
        "id": "89rmO1NkG9G1"
      },
      "source": [
        "## Bonus Part"
      ]
    },
    {
      "cell_type": "markdown",
      "metadata": {
        "id": "HikLkYe1K_Y_"
      },
      "source": [
        "### CDF "
      ]
    },
    {
      "cell_type": "code",
      "metadata": {
        "id": "wf-8aEeq72Rm"
      },
      "source": [
        "def compute_inverse_cdf(p, mean = 0, std = 1):\n",
        "    \"\"\"\n",
        "    Computes the inverse of CDF, where P{X <= x} = p\n",
        "\n",
        "    Parameters:\n",
        "    p (float): the value of the CDF, where 0 <= p <= 1\n",
        "    mean a.k.a µ (float): the mean of the normal distribution\n",
        "    std a.k.a σ (float): the standard deviation of the normal distribution mean\n",
        "\n",
        "    Returns:\n",
        "    x (float): the point that satisfies the equation P{X <= x} = p\n",
        "    \"\"\"\n",
        "\n",
        "    x = #No hints\n",
        "    return x"
      ],
      "execution_count": null,
      "outputs": []
    },
    {
      "cell_type": "markdown",
      "metadata": {
        "id": "0r4z0XVtLEgt"
      },
      "source": [
        "### CDF Plot"
      ]
    },
    {
      "cell_type": "code",
      "metadata": {
        "id": "itF_SPz01xJM"
      },
      "source": [
        "def plot_cdf(x, cdf=0.5):\n",
        "    \"\"\"\n",
        "    Plots the cdf of the normal (Gaussian) distribution at a given certain point\n",
        "\n",
        "    Parameters:\n",
        "    x (array-like): the data points to be plotted\n",
        "    cdf: the plot shaded percentage that representins the normal distribution cdf\n",
        "    \"\"\"\n",
        "    \n",
        "    #No hints\n",
        "    \n",
        "    plt.show()"
      ],
      "execution_count": null,
      "outputs": []
    },
    {
      "cell_type": "markdown",
      "metadata": {
        "id": "9i9wwFV0HH3-"
      },
      "source": [
        "### Driver Code"
      ]
    },
    {
      "cell_type": "code",
      "metadata": {
        "id": "EZpZgCxZRqRv"
      },
      "source": [
        "percent = 0.8\n",
        "plot_cdf(x, percent)"
      ],
      "execution_count": null,
      "outputs": []
    }
  ]
}